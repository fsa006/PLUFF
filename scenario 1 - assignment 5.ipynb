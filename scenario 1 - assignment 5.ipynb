{
  "nbformat": 4,
  "nbformat_minor": 0,
  "metadata": {
    "colab": {
      "provenance": []
    },
    "kernelspec": {
      "name": "python3",
      "display_name": "Python 3"
    },
    "language_info": {
      "name": "python"
    }
  },
  "cells": [
    {
      "cell_type": "markdown",
      "source": [
        "Install [Pyomo](https://www.pyomo.org/)"
      ],
      "metadata": {
        "id": "n5U2N4O8CpB7"
      }
    },
    {
      "cell_type": "code",
      "execution_count": 1,
      "metadata": {
        "id": "yTGBrqQO3vT2",
        "pycharm": {},
        "collapsed": true
      },
      "outputs": [],
      "source": [
        "!pip install -q pyomo"
      ]
    },
    {
      "cell_type": "markdown",
      "source": [
        "Install CBC-solver [COIN-OR CBC solver](https://www.coin-or.org/)"
      ],
      "metadata": {
        "id": "sPJuFBQHCVIW"
      }
    },
    {
      "cell_type": "code",
      "source": [
        "!apt-get install -y -qq coinor-cbc"
      ],
      "metadata": {
        "id": "f1UpWPRF7yRc",
        "colab": {
          "base_uri": "https://localhost:8080/"
        },
        "outputId": "5e89b95b-38cd-4bea-9111-f3f89461fe26",
        "collapsed": true
      },
      "execution_count": 2,
      "outputs": [
        {
          "output_type": "stream",
          "name": "stdout",
          "text": [
            "Selecting previously unselected package coinor-libcoinutils3v5:amd64.\n",
            "(Reading database ... 123633 files and directories currently installed.)\n",
            "Preparing to unpack .../0-coinor-libcoinutils3v5_2.11.4+repack1-2_amd64.deb ...\n",
            "Unpacking coinor-libcoinutils3v5:amd64 (2.11.4+repack1-2) ...\n",
            "Selecting previously unselected package coinor-libosi1v5:amd64.\n",
            "Preparing to unpack .../1-coinor-libosi1v5_0.108.6+repack1-2_amd64.deb ...\n",
            "Unpacking coinor-libosi1v5:amd64 (0.108.6+repack1-2) ...\n",
            "Selecting previously unselected package coinor-libclp1.\n",
            "Preparing to unpack .../2-coinor-libclp1_1.17.5+repack1-1_amd64.deb ...\n",
            "Unpacking coinor-libclp1 (1.17.5+repack1-1) ...\n",
            "Selecting previously unselected package coinor-libcgl1:amd64.\n",
            "Preparing to unpack .../3-coinor-libcgl1_0.60.3+repack1-3_amd64.deb ...\n",
            "Unpacking coinor-libcgl1:amd64 (0.60.3+repack1-3) ...\n",
            "Selecting previously unselected package coinor-libcbc3:amd64.\n",
            "Preparing to unpack .../4-coinor-libcbc3_2.10.7+ds1-1_amd64.deb ...\n",
            "Unpacking coinor-libcbc3:amd64 (2.10.7+ds1-1) ...\n",
            "Selecting previously unselected package coinor-cbc.\n",
            "Preparing to unpack .../5-coinor-cbc_2.10.7+ds1-1_amd64.deb ...\n",
            "Unpacking coinor-cbc (2.10.7+ds1-1) ...\n",
            "Setting up coinor-libcoinutils3v5:amd64 (2.11.4+repack1-2) ...\n",
            "Setting up coinor-libosi1v5:amd64 (0.108.6+repack1-2) ...\n",
            "Setting up coinor-libclp1 (1.17.5+repack1-1) ...\n",
            "Setting up coinor-libcgl1:amd64 (0.60.3+repack1-3) ...\n",
            "Setting up coinor-libcbc3:amd64 (2.10.7+ds1-1) ...\n",
            "Setting up coinor-cbc (2.10.7+ds1-1) ...\n",
            "Processing triggers for man-db (2.10.2-1) ...\n",
            "Processing triggers for libc-bin (2.35-0ubuntu3.4) ...\n",
            "/sbin/ldconfig.real: /usr/local/lib/libumf.so.0 is not a symbolic link\n",
            "\n",
            "/sbin/ldconfig.real: /usr/local/lib/libtcm_debug.so.1 is not a symbolic link\n",
            "\n",
            "/sbin/ldconfig.real: /usr/local/lib/libhwloc.so.15 is not a symbolic link\n",
            "\n",
            "/sbin/ldconfig.real: /usr/local/lib/libtbbbind.so.3 is not a symbolic link\n",
            "\n",
            "/sbin/ldconfig.real: /usr/local/lib/libtbbmalloc.so.2 is not a symbolic link\n",
            "\n",
            "/sbin/ldconfig.real: /usr/local/lib/libtbbbind_2_0.so.3 is not a symbolic link\n",
            "\n",
            "/sbin/ldconfig.real: /usr/local/lib/libtbb.so.12 is not a symbolic link\n",
            "\n",
            "/sbin/ldconfig.real: /usr/local/lib/libtbbbind_2_5.so.3 is not a symbolic link\n",
            "\n",
            "/sbin/ldconfig.real: /usr/local/lib/libtbbmalloc_proxy.so.2 is not a symbolic link\n",
            "\n",
            "/sbin/ldconfig.real: /usr/local/lib/libtcm.so.1 is not a symbolic link\n",
            "\n",
            "/sbin/ldconfig.real: /usr/local/lib/libur_adapter_level_zero.so.0 is not a symbolic link\n",
            "\n",
            "/sbin/ldconfig.real: /usr/local/lib/libur_adapter_opencl.so.0 is not a symbolic link\n",
            "\n",
            "/sbin/ldconfig.real: /usr/local/lib/libur_loader.so.0 is not a symbolic link\n",
            "\n"
          ]
        }
      ]
    },
    {
      "cell_type": "code",
      "source": [
        "import pyomo.environ as pyo\n",
        "\n",
        "A = ['Syncreon1', 'Syncreon2', 'Ceva1', 'Ceva2', 'Johnston', 'Jenkinson', 'LowCost1', 'LowCost2', 'LowCost3']\n",
        "b = {'Syncreon1':24, 'Syncreon2':50, 'Ceva1':18, 'Ceva2':20, 'Johnston':10, 'Jenkinson':11, 'LowCost1':8, 'LowCost2':6, 'LowCost3':4}\n",
        "w = {'Syncreon1':100, 'Syncreon2':400, 'Ceva1':150, 'Ceva2':300, 'Johnston':90, 'Jenkinson':90, 'LowCost1':50, 'LowCost2':60, 'LowCost3':40}\n",
        "budget_max = 170\n",
        "\n",
        "model = pyo.ConcreteModel()\n",
        "model.x = pyo.Var( A, within=pyo.Binary )\n",
        "\n",
        "model.obj = pyo.Objective(\n",
        "    expr = sum( b[i]*model.x[i] for i in A ),\n",
        "    sense = pyo.maximize )\n",
        "\n",
        "model.budget_con = pyo.Constraint(\n",
        "    expr = sum( w[i]*model.x[i] for i in A ) <= budget_max )\n",
        "\n",
        "#opt = pyo.SolverFactory('glpk')\n",
        "opt = pyo.SolverFactory('cbc')\n",
        "opt_success = opt.solve(model)\n",
        "\n",
        "model.pprint()\n",
        "# Print the values of the decision variables\n",
        "print(\"\\nSelected items:\")\n",
        "for i in A:\n",
        "    print(f\"{i}: {model.x[i].value}\")\n",
        "\n",
        "print(f\"Objective: {model.obj()}\")"
      ],
      "metadata": {
        "colab": {
          "base_uri": "https://localhost:8080/"
        },
        "id": "EWdAIV858b7l",
        "outputId": "ed90d8dd-48d7-4ae8-b6df-26d06b372f1e"
      },
      "execution_count": 3,
      "outputs": [
        {
          "output_type": "stream",
          "name": "stdout",
          "text": [
            "1 Var Declarations\n",
            "    x : Size=9, Index={Syncreon1, Syncreon2, Ceva1, Ceva2, Johnston, Jenkinson, LowCost1, LowCost2, LowCost3}\n",
            "        Key       : Lower : Value : Upper : Fixed : Stale : Domain\n",
            "            Ceva1 :     0 :   0.0 :     1 : False : False : Binary\n",
            "            Ceva2 :     0 :   0.0 :     1 : False : False : Binary\n",
            "        Jenkinson :     0 :   0.0 :     1 : False : False : Binary\n",
            "         Johnston :     0 :   0.0 :     1 : False : False : Binary\n",
            "         LowCost1 :     0 :   1.0 :     1 : False : False : Binary\n",
            "         LowCost2 :     0 :   0.0 :     1 : False : False : Binary\n",
            "         LowCost3 :     0 :   0.0 :     1 : False : False : Binary\n",
            "        Syncreon1 :     0 :   1.0 :     1 : False : False : Binary\n",
            "        Syncreon2 :     0 :   0.0 :     1 : False : False : Binary\n",
            "\n",
            "1 Objective Declarations\n",
            "    obj : Size=1, Index=None, Active=True\n",
            "        Key  : Active : Sense    : Expression\n",
            "        None :   True : maximize : 24*x[Syncreon1] + 50*x[Syncreon2] + 18*x[Ceva1] + 20*x[Ceva2] + 10*x[Johnston] + 11*x[Jenkinson] + 8*x[LowCost1] + 6*x[LowCost2] + 4*x[LowCost3]\n",
            "\n",
            "1 Constraint Declarations\n",
            "    budget_con : Size=1, Index=None, Active=True\n",
            "        Key  : Lower : Body                                                                                                                                                    : Upper : Active\n",
            "        None :  -Inf : 100*x[Syncreon1] + 400*x[Syncreon2] + 150*x[Ceva1] + 300*x[Ceva2] + 90*x[Johnston] + 90*x[Jenkinson] + 50*x[LowCost1] + 60*x[LowCost2] + 40*x[LowCost3] : 170.0 :   True\n",
            "\n",
            "3 Declarations: x obj budget_con\n",
            "\n",
            "Selected items:\n",
            "Syncreon1: 1.0\n",
            "Syncreon2: 0.0\n",
            "Ceva1: 0.0\n",
            "Ceva2: 0.0\n",
            "Johnston: 0.0\n",
            "Jenkinson: 0.0\n",
            "LowCost1: 1.0\n",
            "LowCost2: 0.0\n",
            "LowCost3: 0.0\n",
            "Objective: 32.0\n"
          ]
        }
      ]
    }
  ]
}